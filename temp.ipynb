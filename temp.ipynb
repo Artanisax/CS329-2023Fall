{
 "cells": [
  {
   "cell_type": "code",
   "execution_count": 2,
   "metadata": {},
   "outputs": [],
   "source": [
    "import numpy as np"
   ]
  },
  {
   "cell_type": "code",
   "execution_count": 14,
   "metadata": {},
   "outputs": [],
   "source": [
    "def rmse(a, b):\n",
    "    # Complete this function\n",
    "    return np.sqrt((a - b) ** 2 / a.shape[0])"
   ]
  },
  {
   "cell_type": "code",
   "execution_count": 2,
   "metadata": {},
   "outputs": [
    {
     "ename": "ValueError",
     "evalue": "invalid literal for int() with base 10: '0.000000'",
     "output_type": "error",
     "traceback": [
      "\u001b[0;31m---------------------------------------------------------------------------\u001b[0m",
      "\u001b[0;31mValueError\u001b[0m                                Traceback (most recent call last)",
      "\u001b[1;32m/home/artanisax/GitHub/Artanisax/CS329-2023Fall/temp.ipynb Cell 3\u001b[0m line \u001b[0;36m4\n\u001b[1;32m      <a href='vscode-notebook-cell://wsl%2Bubuntu/home/artanisax/GitHub/Artanisax/CS329-2023Fall/temp.ipynb#W2sdnNjb2RlLXJlbW90ZQ%3D%3D?line=0'>1</a>\u001b[0m \u001b[39mimport\u001b[39;00m \u001b[39mnumpy\u001b[39;00m \u001b[39mas\u001b[39;00m \u001b[39mnp\u001b[39;00m\n\u001b[1;32m      <a href='vscode-notebook-cell://wsl%2Bubuntu/home/artanisax/GitHub/Artanisax/CS329-2023Fall/temp.ipynb#W2sdnNjb2RlLXJlbW90ZQ%3D%3D?line=2'>3</a>\u001b[0m \u001b[39m# Read the number of training and testing samples\u001b[39;00m\n\u001b[0;32m----> <a href='vscode-notebook-cell://wsl%2Bubuntu/home/artanisax/GitHub/Artanisax/CS329-2023Fall/temp.ipynb#W2sdnNjb2RlLXJlbW90ZQ%3D%3D?line=3'>4</a>\u001b[0m N, M \u001b[39m=\u001b[39m \u001b[39mmap\u001b[39m(\u001b[39mint\u001b[39m, \u001b[39minput\u001b[39m()\u001b[39m.\u001b[39msplit())\n\u001b[1;32m      <a href='vscode-notebook-cell://wsl%2Bubuntu/home/artanisax/GitHub/Artanisax/CS329-2023Fall/temp.ipynb#W2sdnNjb2RlLXJlbW90ZQ%3D%3D?line=5'>6</a>\u001b[0m \u001b[39m# Read the training data and create polynomial features\u001b[39;00m\n\u001b[1;32m      <a href='vscode-notebook-cell://wsl%2Bubuntu/home/artanisax/GitHub/Artanisax/CS329-2023Fall/temp.ipynb#W2sdnNjb2RlLXJlbW90ZQ%3D%3D?line=6'>7</a>\u001b[0m train_data \u001b[39m=\u001b[39m np\u001b[39m.\u001b[39marray([\u001b[39mlist\u001b[39m(\u001b[39mmap\u001b[39m(\u001b[39mfloat\u001b[39m, \u001b[39minput\u001b[39m()\u001b[39m.\u001b[39msplit())) \u001b[39mfor\u001b[39;00m _ \u001b[39min\u001b[39;00m \u001b[39mrange\u001b[39m(N)])\n",
      "\u001b[0;31mValueError\u001b[0m: invalid literal for int() with base 10: '0.000000'"
     ]
    }
   ],
   "source": [
    "import numpy as np\n",
    "\n",
    "# Read the number of training and testing samples\n",
    "N, M = map(int, input().split())\n",
    "\n",
    "# Read the training data and create polynomial features\n",
    "train_data = np.array([list(map(float, input().split())) for _ in range(N)])\n",
    "X_train = np.column_stack([np.ones(N), train_data[:, 0], train_data[:, 0]**2, train_data[:, 0]**3])\n",
    "y_train = train_data[:, 1]\n",
    "\n",
    "# Train the model using the pseudo-inverse\n",
    "w = np.linalg.pinv(X_train).dot(y_train)\n",
    "\n",
    "# Read the testing data and create polynomial features\n",
    "test_data = np.array([float(input()) for _ in range(M)])\n",
    "X_test = np.column_stack([np.ones(M), test_data, test_data**2, test_data**3])\n",
    "\n",
    "# Predict the output for the testing data\n",
    "y_pred = X_test.dot(w)\n",
    "\n",
    "# Print the predicted output\n",
    "for y in y_pred:\n",
    "    print(round(y, 6))"
   ]
  }
 ],
 "metadata": {
  "kernelspec": {
   "display_name": "ml",
   "language": "python",
   "name": "python3"
  },
  "language_info": {
   "codemirror_mode": {
    "name": "ipython",
    "version": 3
   },
   "file_extension": ".py",
   "mimetype": "text/x-python",
   "name": "python",
   "nbconvert_exporter": "python",
   "pygments_lexer": "ipython3",
   "version": "3.10.13"
  },
  "orig_nbformat": 4
 },
 "nbformat": 4,
 "nbformat_minor": 2
}
